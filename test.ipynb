{
 "cells": [
  {
   "cell_type": "code",
   "execution_count": 2,
   "id": "ba9bac29",
   "metadata": {},
   "outputs": [],
   "source": [
    "from pinn_utils import pinn\n",
    "import torch\n",
    "import torch.nn as nn\n",
    "import matplotlib.pyplot as plt\n",
    "import numpy as np\n"
   ]
  },
  {
   "cell_type": "code",
   "execution_count": 26,
   "id": "be8bd915",
   "metadata": {},
   "outputs": [],
   "source": [
    "y0 = 0.0\n",
    "ics = [1.0]\n",
    "def F(x,y,dy):\n",
    "    return dy - y\n",
    "PINN = pinn.PINN(num_hidden_layers=4, input_activation = nn.Softplus(),hidden_activation = nn.Softplus(),layer_width=64)\n",
    "x_collocation = torch.linspace(-5, 5, 10000).unsqueeze(1).requires_grad_(True)  "
   ]
  },
  {
   "cell_type": "code",
   "execution_count": 27,
   "id": "3ce8a21a",
   "metadata": {},
   "outputs": [
    {
     "name": "stdout",
     "output_type": "stream",
     "text": [
      "Epoch 100, Loss: 0.444352, Validation Loss: 0.430265\n",
      "Epoch 200, Loss: 0.252610, Validation Loss: 0.235558\n",
      "Epoch 300, Loss: 0.221546, Validation Loss: 0.210044\n",
      "Epoch 400, Loss: 0.212000, Validation Loss: 0.209497\n",
      "Epoch 500, Loss: 0.208516, Validation Loss: 0.207938\n",
      "Epoch 600, Loss: 0.206858, Validation Loss: 0.206109\n",
      "Epoch 700, Loss: 0.205575, Validation Loss: 0.204452\n",
      "Epoch 800, Loss: 0.204714, Validation Loss: 0.203376\n",
      "Epoch 900, Loss: 0.203893, Validation Loss: 0.202358\n",
      "Epoch 1000, Loss: 0.203281, Validation Loss: 0.201857\n",
      "Epoch 1100, Loss: 0.202600, Validation Loss: 0.201349\n",
      "Epoch 1200, Loss: 0.202154, Validation Loss: 0.201210\n",
      "Epoch 1300, Loss: 0.201495, Validation Loss: 0.200788\n",
      "Epoch 1400, Loss: 0.201182, Validation Loss: 0.200573\n",
      "Epoch 1500, Loss: 0.200478, Validation Loss: 0.200150\n",
      "Epoch 1600, Loss: 0.199639, Validation Loss: 0.199505\n",
      "Epoch 1700, Loss: 0.197815, Validation Loss: 0.197894\n",
      "Epoch 1800, Loss: 0.198029, Validation Loss: 0.200249\n",
      "Epoch 1900, Loss: 0.249362, Validation Loss: 0.198910\n",
      "Epoch 2000, Loss: 0.162275, Validation Loss: 0.163285\n",
      "Epoch 2100, Loss: 0.142163, Validation Loss: 0.144566\n",
      "Epoch 2200, Loss: 0.122916, Validation Loss: 0.118149\n",
      "Epoch 2300, Loss: 0.091660, Validation Loss: 0.095474\n",
      "Epoch 2400, Loss: 0.081026, Validation Loss: 0.081884\n",
      "Epoch 2500, Loss: 0.142843, Validation Loss: 0.229920\n",
      "Epoch 2600, Loss: 0.078244, Validation Loss: 0.078725\n",
      "Epoch 2700, Loss: 0.048268, Validation Loss: 0.048717\n",
      "Epoch 2800, Loss: 0.045814, Validation Loss: 0.046319\n",
      "Epoch 2900, Loss: 0.024829, Validation Loss: 0.025366\n",
      "Epoch 3000, Loss: 0.025760, Validation Loss: 0.025831\n",
      "Epoch 3100, Loss: 0.013010, Validation Loss: 0.013341\n",
      "Epoch 3200, Loss: 0.011125, Validation Loss: 0.011418\n",
      "Epoch 3300, Loss: 0.020027, Validation Loss: 0.030627\n",
      "Epoch 3400, Loss: 0.004552, Validation Loss: 0.004613\n",
      "Epoch 3500, Loss: 0.004602, Validation Loss: 0.004625\n",
      "Epoch 3600, Loss: 0.100225, Validation Loss: 0.113763\n",
      "Epoch 3700, Loss: 0.001902, Validation Loss: 0.001871\n",
      "Epoch 3800, Loss: 0.002183, Validation Loss: 0.002424\n",
      "Epoch 3900, Loss: 0.054415, Validation Loss: 0.011475\n",
      "Epoch 4000, Loss: 0.001034, Validation Loss: 0.001022\n",
      "Epoch 4100, Loss: 0.005382, Validation Loss: 0.006106\n",
      "Epoch 4200, Loss: 0.000675, Validation Loss: 0.000663\n",
      "Epoch 4300, Loss: 0.000880, Validation Loss: 0.000952\n",
      "Epoch 4400, Loss: 0.016275, Validation Loss: 0.055870\n",
      "Epoch 4500, Loss: 0.000534, Validation Loss: 0.000539\n",
      "Epoch 4600, Loss: 0.001328, Validation Loss: 0.000973\n",
      "Epoch 4700, Loss: 0.014095, Validation Loss: 0.025733\n",
      "Epoch 4800, Loss: 0.010979, Validation Loss: 0.016634\n",
      "Epoch 4900, Loss: 0.000525, Validation Loss: 0.000563\n",
      "Epoch 5000, Loss: 0.000457, Validation Loss: 0.000480\n",
      "Epoch 5100, Loss: 0.000528, Validation Loss: 0.000504\n",
      "Epoch 5200, Loss: 0.000979, Validation Loss: 0.000791\n",
      "Epoch 5300, Loss: 0.000777, Validation Loss: 0.001291\n",
      "Epoch 5400, Loss: 0.003694, Validation Loss: 0.001576\n",
      "Epoch 5500, Loss: 0.013676, Validation Loss: 0.021072\n",
      "Epoch 5600, Loss: 0.000282, Validation Loss: 0.000290\n",
      "Epoch 5700, Loss: 0.000370, Validation Loss: 0.000383\n",
      "Epoch 5800, Loss: 0.000476, Validation Loss: 0.000579\n",
      "Epoch 5900, Loss: 0.000612, Validation Loss: 0.001083\n",
      "Epoch 6000, Loss: 0.005454, Validation Loss: 0.005428\n",
      "Epoch 6100, Loss: 0.002708, Validation Loss: 0.012819\n",
      "Epoch 6200, Loss: 0.015080, Validation Loss: 0.000757\n",
      "Epoch 6300, Loss: 0.024520, Validation Loss: 0.038196\n",
      "Epoch 6400, Loss: 0.000621, Validation Loss: 0.000831\n",
      "Epoch 6500, Loss: 0.000254, Validation Loss: 0.000259\n",
      "Epoch 6600, Loss: 0.000387, Validation Loss: 0.000390\n",
      "Epoch 6700, Loss: 0.000802, Validation Loss: 0.001353\n",
      "Epoch 6800, Loss: 0.008340, Validation Loss: 0.001294\n",
      "Epoch 6900, Loss: 0.047237, Validation Loss: 0.066545\n",
      "Epoch 7000, Loss: 0.002565, Validation Loss: 0.003962\n",
      "Epoch 7100, Loss: 0.000180, Validation Loss: 0.000190\n",
      "Epoch 7200, Loss: 0.000348, Validation Loss: 0.000327\n",
      "Epoch 7300, Loss: 0.000457, Validation Loss: 0.000407\n",
      "Epoch 7400, Loss: 0.000499, Validation Loss: 0.000496\n",
      "Epoch 7500, Loss: 0.001662, Validation Loss: 0.001134\n",
      "Epoch 7600, Loss: 0.000422, Validation Loss: 0.000314\n",
      "Epoch 7700, Loss: 0.000629, Validation Loss: 0.000636\n",
      "Epoch 7800, Loss: 0.004019, Validation Loss: 0.005697\n",
      "Epoch 7900, Loss: 0.007128, Validation Loss: 0.001956\n",
      "Epoch 8000, Loss: 0.000693, Validation Loss: 0.001132\n",
      "Epoch 8100, Loss: 0.000458, Validation Loss: 0.000426\n",
      "Epoch 8200, Loss: 0.000300, Validation Loss: 0.000289\n",
      "Epoch 8300, Loss: 0.001333, Validation Loss: 0.001014\n",
      "Epoch 8400, Loss: 0.001178, Validation Loss: 0.002684\n",
      "Epoch 8500, Loss: 0.003483, Validation Loss: 0.001546\n",
      "Epoch 8600, Loss: 0.001355, Validation Loss: 0.001867\n",
      "Epoch 8700, Loss: 0.000175, Validation Loss: 0.000179\n",
      "Epoch 8800, Loss: 0.000575, Validation Loss: 0.000684\n",
      "Epoch 8900, Loss: 0.001008, Validation Loss: 0.001626\n",
      "Epoch 9000, Loss: 0.000161, Validation Loss: 0.000177\n",
      "Epoch 9100, Loss: 0.000156, Validation Loss: 0.000186\n",
      "Epoch 9200, Loss: 0.000566, Validation Loss: 0.000709\n",
      "Epoch 9300, Loss: 0.002914, Validation Loss: 0.007700\n",
      "Epoch 9400, Loss: 0.000304, Validation Loss: 0.000557\n",
      "Epoch 9500, Loss: 0.000326, Validation Loss: 0.000367\n",
      "Epoch 9600, Loss: 0.003059, Validation Loss: 0.006758\n",
      "Epoch 9700, Loss: 0.000592, Validation Loss: 0.000322\n",
      "Epoch 9800, Loss: 0.000589, Validation Loss: 0.000653\n",
      "Epoch 9900, Loss: 0.000392, Validation Loss: 0.000330\n",
      "Epoch 10000, Loss: 0.000322, Validation Loss: 0.000389\n",
      "Final Epoch 10000, Loss: 0.000322, Validation Loss: 0.000389\n"
     ]
    }
   ],
   "source": [
    "solution, checkpoints = pinn.solve(F, y0, ics, PINN, x_collocation, epochs = 10000, print_every=100, return_checkpoints=True)"
   ]
  },
  {
   "cell_type": "code",
   "execution_count": 28,
   "id": "8dd51024",
   "metadata": {},
   "outputs": [],
   "source": [
    "y0 = 0.0\n",
    "ics = [1.0]\n",
    "def F(x,y,dy):\n",
    "    return dy - y\n",
    "PINN_2 = pinn.PINN(num_hidden_layers=4, hidden_activation = nn.Tanh(),layer_width=64)\n",
    "x_collocation_2 = torch.linspace(-5, 5, 10000).unsqueeze(1).requires_grad_(True) "
   ]
  },
  {
   "cell_type": "code",
   "execution_count": 29,
   "id": "b70e9656",
   "metadata": {},
   "outputs": [
    {
     "name": "stdout",
     "output_type": "stream",
     "text": [
      "Epoch 100, Loss: 0.233220, Validation Loss: 0.253491\n",
      "Epoch 200, Loss: 0.209764, Validation Loss: 0.236569\n",
      "Epoch 300, Loss: 0.204050, Validation Loss: 0.231239\n",
      "Epoch 400, Loss: 0.201705, Validation Loss: 0.228471\n",
      "Epoch 500, Loss: 0.200335, Validation Loss: 0.226909\n",
      "Epoch 600, Loss: 0.201873, Validation Loss: 0.225916\n",
      "Epoch 700, Loss: 0.198473, Validation Loss: 0.225250\n",
      "Epoch 800, Loss: 0.201796, Validation Loss: 0.224831\n",
      "Epoch 900, Loss: 0.197266, Validation Loss: 0.224431\n",
      "Epoch 1000, Loss: 0.196755, Validation Loss: 0.224082\n",
      "Epoch 1100, Loss: 0.197938, Validation Loss: 0.224021\n",
      "Epoch 1200, Loss: 0.196104, Validation Loss: 0.223649\n",
      "Epoch 1300, Loss: 0.195778, Validation Loss: 0.223406\n",
      "Epoch 1400, Loss: 0.195484, Validation Loss: 0.223184\n",
      "Epoch 1500, Loss: 0.195448, Validation Loss: 0.223102\n",
      "Epoch 1600, Loss: 0.195159, Validation Loss: 0.222919\n",
      "Epoch 1700, Loss: 0.194935, Validation Loss: 0.222708\n",
      "Epoch 1800, Loss: 0.194713, Validation Loss: 0.222478\n",
      "Epoch 1900, Loss: 0.194702, Validation Loss: 0.222444\n",
      "Epoch 2000, Loss: 0.194474, Validation Loss: 0.222160\n",
      "Epoch 2100, Loss: 0.194226, Validation Loss: 0.221843\n",
      "Epoch 2200, Loss: 0.194323, Validation Loss: 0.222745\n",
      "Epoch 2300, Loss: 0.193853, Validation Loss: 0.221305\n",
      "Epoch 2400, Loss: 0.193251, Validation Loss: 0.220511\n",
      "Epoch 2500, Loss: 0.191476, Validation Loss: 0.218295\n",
      "Epoch 2600, Loss: 0.188320, Validation Loss: 0.214816\n",
      "Epoch 2700, Loss: 0.179588, Validation Loss: 0.204491\n",
      "Epoch 2800, Loss: 0.173463, Validation Loss: 0.197580\n",
      "Epoch 2900, Loss: 0.164026, Validation Loss: 0.186871\n",
      "Epoch 3000, Loss: 0.166482, Validation Loss: 0.190381\n",
      "Epoch 3100, Loss: 0.155511, Validation Loss: 0.177420\n",
      "Epoch 3200, Loss: 0.173680, Validation Loss: 0.202260\n",
      "Epoch 3300, Loss: 0.237574, Validation Loss: 0.247328\n",
      "Epoch 3400, Loss: 0.177245, Validation Loss: 0.202202\n",
      "Epoch 3500, Loss: 0.171080, Validation Loss: 0.194642\n",
      "Epoch 3600, Loss: 0.140385, Validation Loss: 0.160391\n",
      "Epoch 3700, Loss: 0.151510, Validation Loss: 0.173868\n",
      "Epoch 3800, Loss: 0.151072, Validation Loss: 0.171606\n",
      "Epoch 3900, Loss: 0.148244, Validation Loss: 0.166018\n",
      "Epoch 4000, Loss: 0.123454, Validation Loss: 0.141794\n",
      "Epoch 4100, Loss: 0.182160, Validation Loss: 0.209860\n",
      "Epoch 4200, Loss: 0.159779, Validation Loss: 0.183259\n",
      "Epoch 4300, Loss: 0.183484, Validation Loss: 0.163903\n",
      "Epoch 4400, Loss: 0.125455, Validation Loss: 0.144008\n",
      "Epoch 4500, Loss: 0.147002, Validation Loss: 0.164440\n",
      "Epoch 4600, Loss: 0.125885, Validation Loss: 0.139823\n",
      "Epoch 4700, Loss: 0.161610, Validation Loss: 0.186493\n",
      "Epoch 4800, Loss: 0.204434, Validation Loss: 0.148429\n",
      "Epoch 4900, Loss: 0.107789, Validation Loss: 0.130736\n",
      "Epoch 5000, Loss: 0.111567, Validation Loss: 0.124556\n",
      "Epoch 5100, Loss: 0.104009, Validation Loss: 0.119435\n",
      "Epoch 5200, Loss: 0.134230, Validation Loss: 0.170645\n",
      "Epoch 5300, Loss: 0.146285, Validation Loss: 0.168769\n",
      "Epoch 5400, Loss: 0.104126, Validation Loss: 0.119783\n",
      "Epoch 5500, Loss: 0.159679, Validation Loss: 0.184579\n",
      "Epoch 5600, Loss: 0.111992, Validation Loss: 0.129151\n",
      "Epoch 5700, Loss: 0.285797, Validation Loss: 0.319301\n",
      "Epoch 5800, Loss: 0.114415, Validation Loss: 0.114646\n",
      "Epoch 5900, Loss: 0.188958, Validation Loss: 0.205112\n",
      "Epoch 6000, Loss: 0.150007, Validation Loss: 0.173923\n",
      "Epoch 6100, Loss: 0.107507, Validation Loss: 0.134996\n",
      "Epoch 6200, Loss: 0.128586, Validation Loss: 0.194263\n",
      "Epoch 6300, Loss: 0.091349, Validation Loss: 0.107015\n",
      "Epoch 6400, Loss: 0.085199, Validation Loss: 0.103677\n",
      "Epoch 6500, Loss: 0.093909, Validation Loss: 0.105343\n",
      "Epoch 6600, Loss: 0.124525, Validation Loss: 0.138923\n",
      "Epoch 6700, Loss: 0.148704, Validation Loss: 0.169358\n",
      "Epoch 6800, Loss: 0.086171, Validation Loss: 0.100207\n",
      "Epoch 6900, Loss: 0.091451, Validation Loss: 0.103428\n",
      "Epoch 7000, Loss: 0.076108, Validation Loss: 0.086642\n",
      "Epoch 7100, Loss: 0.086331, Validation Loss: 0.101403\n",
      "Epoch 7200, Loss: 0.136736, Validation Loss: 0.156458\n",
      "Epoch 7300, Loss: 0.080252, Validation Loss: 0.093698\n",
      "Epoch 7400, Loss: 0.073562, Validation Loss: 0.085487\n",
      "Epoch 7500, Loss: 0.065753, Validation Loss: 0.077423\n",
      "Epoch 7600, Loss: 0.077284, Validation Loss: 0.087590\n",
      "Epoch 7700, Loss: 0.095878, Validation Loss: 0.106202\n",
      "Epoch 7800, Loss: 0.070687, Validation Loss: 0.081472\n",
      "Epoch 7900, Loss: 0.138393, Validation Loss: 0.161220\n",
      "Epoch 8000, Loss: 0.078457, Validation Loss: 0.091191\n",
      "Epoch 8100, Loss: 0.072157, Validation Loss: 0.183030\n",
      "Epoch 8200, Loss: 0.068625, Validation Loss: 0.079533\n",
      "Epoch 8300, Loss: 0.064865, Validation Loss: 0.101109\n",
      "Epoch 8400, Loss: 0.168968, Validation Loss: 0.198433\n",
      "Epoch 8500, Loss: 0.149628, Validation Loss: 0.177352\n",
      "Epoch 8600, Loss: 0.124704, Validation Loss: 0.201535\n",
      "Epoch 8700, Loss: 0.079011, Validation Loss: 0.093678\n",
      "Epoch 8800, Loss: 0.064356, Validation Loss: 0.076768\n",
      "Epoch 8900, Loss: 0.069181, Validation Loss: 0.079545\n",
      "Epoch 9000, Loss: 0.057336, Validation Loss: 0.067746\n",
      "Epoch 9100, Loss: 0.092901, Validation Loss: 0.112403\n",
      "Epoch 9200, Loss: 0.074702, Validation Loss: 0.088334\n",
      "Epoch 9300, Loss: 0.134702, Validation Loss: 0.151503\n",
      "Epoch 9400, Loss: 0.102872, Validation Loss: 0.125714\n",
      "Epoch 9500, Loss: 0.055900, Validation Loss: 0.064922\n",
      "Epoch 9600, Loss: 0.155652, Validation Loss: 0.178338\n",
      "Epoch 9700, Loss: 0.116012, Validation Loss: 0.139226\n",
      "Epoch 9800, Loss: 0.065601, Validation Loss: 0.079409\n",
      "Epoch 9900, Loss: 0.115341, Validation Loss: 0.076973\n",
      "Epoch 10000, Loss: 0.061578, Validation Loss: 0.076089\n",
      "Final Epoch 10000, Loss: 0.061578, Validation Loss: 0.076089\n"
     ]
    }
   ],
   "source": [
    "solution_2, checkpoints_2 = pinn.solve(F, y0, ics, PINN_2, x_collocation_2, epochs = 10000, print_every=100, return_checkpoints=True)"
   ]
  },
  {
   "cell_type": "code",
   "execution_count": 30,
   "id": "46d07eb2",
   "metadata": {},
   "outputs": [
    {
     "data": {
      "text/plain": [
       "500"
      ]
     },
     "execution_count": 30,
     "metadata": {},
     "output_type": "execute_result"
    }
   ],
   "source": [
    "len(checkpoints)"
   ]
  },
  {
   "cell_type": "code",
   "execution_count": null,
   "id": "3eda904c",
   "metadata": {},
   "outputs": [
    {
     "data": {
      "image/png": "[encoded data removed]",
      "text/plain": [
       "<Figure size 640x480 with 1 Axes>"
      ]
     },
     "metadata": {},
     "output_type": "display_data"
    },
    {
     "name": "stdout",
     "output_type": "stream",
     "text": [
      "MSE Softplus: 0.21254847943782806, MSE Tanh: 338.4961853027344\n"
     ]
    }
   ],
   "source": [
    "x_np = x_collocation.detach().numpy()\n",
    "y_1_np = solution(x_collocation).detach().numpy()\n",
    "y_2_np = solution_2(x_collocation_2).detach().numpy()\n",
    "y_true = np.exp(x_np)\n",
    "plt.plot(x_np, y_1_np, label=\"Softplus NN\")\n",
    "plt.plot(x_np, y_2_np, label=\"tanh NN\")\n",
    "# plt.plot(x_np,y_true, label= \"True Solution\")\n",
    "plt.xlabel(\"x\")\n",
    "plt.ylabel(\"y\")\n",
    "plt.grid()\n",
    "plt.legend()\n",
    "plt.show()\n",
    "mse_relu = np.mean((y_1_np - y_true)**2)\n",
    "mse_tanh = np.mean((y_2_np - y_true)**2)\n",
    "print(f\"MSE Softplus: {mse_relu}, MSE Tanh: {mse_tanh}\")"
   ]
  },
  {
   "cell_type": "code",
   "execution_count": 6,
   "id": "8a6f7b93",
   "metadata": {},
   "outputs": [],
   "source": [
    "y_1 = checkpoints[1][1](x_collocation).numpy()"
   ]
  },
  {
   "cell_type": "code",
   "execution_count": 7,
   "id": "eda44526",
   "metadata": {},
   "outputs": [],
   "source": [
    "y_2 = checkpoints[10][1](x_collocation).numpy()"
   ]
  },
  {
   "cell_type": "code",
   "execution_count": 8,
   "id": "b09a5739",
   "metadata": {},
   "outputs": [
    {
     "data": {
      "text/plain": [
       "False"
      ]
     },
     "execution_count": 8,
     "metadata": {},
     "output_type": "execute_result"
    }
   ],
   "source": [
    "np.allclose(y_1,y_2)"
   ]
  },
  {
   "cell_type": "code",
   "execution_count": 12,
   "id": "ea681f87",
   "metadata": {},
   "outputs": [],
   "source": [
    "y = checkpoints[-1][1](x_collocation).detach().numpy()\n",
    "y_t = solution(x_collocation).detach().numpy()"
   ]
  },
  {
   "cell_type": "code",
   "execution_count": 13,
   "id": "67b23278",
   "metadata": {},
   "outputs": [
    {
     "data": {
      "text/plain": [
       "True"
      ]
     },
     "execution_count": 13,
     "metadata": {},
     "output_type": "execute_result"
    }
   ],
   "source": [
    "np.allclose(y,y_t)"
   ]
  },
  {
   "cell_type": "code",
   "execution_count": 15,
   "id": "930ccf11",
   "metadata": {},
   "outputs": [
    {
     "data": {
      "text/plain": [
       "np.True_"
      ]
     },
     "execution_count": 15,
     "metadata": {},
     "output_type": "execute_result"
    }
   ],
   "source": [
    "(y == y_t).min()"
   ]
  },
  {
   "cell_type": "code",
   "execution_count": null,
   "id": "22ba00be",
   "metadata": {},
   "outputs": [],
   "source": []
  }
 ],
 "metadata": {
  "kernelspec": {
   "display_name": "pytorch_env",
   "language": "python",
   "name": "python3"
  },
  "language_info": {
   "codemirror_mode": {
    "name": "ipython",
    "version": 3
   },
   "file_extension": ".py",
   "mimetype": "text/x-python",
   "name": "python",
   "nbconvert_exporter": "python",
   "pygments_lexer": "ipython3",
   "version": "3.13.7"
  }
 },
 "nbformat": 4,
 "nbformat_minor": 5
}
